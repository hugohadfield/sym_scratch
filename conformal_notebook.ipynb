{
 "cells": [
  {
   "cell_type": "code",
   "execution_count": 1,
   "metadata": {
    "collapsed": true
   },
   "outputs": [],
   "source": [
    "from __future__ import print_function\n",
    "from galgebra import ga\n",
    "from sympy import *"
   ]
  },
  {
   "cell_type": "code",
   "execution_count": 2,
   "metadata": {
    "collapsed": false
   },
   "outputs": [
    {
     "name": "stdout",
     "output_type": "stream",
     "text": [
      "METRIC\n",
      "1\n",
      "1\n",
      "1\n",
      "1\n",
      "-1\n"
     ]
    }
   ],
   "source": [
    "g3metric = '1 0 0 0 0, 0 1 0 0 0, 0 0 1 0 0, 0 0 0 1 0, 0 0 0 0 -1'\n",
    "g3c = ga.Ga('e_1 e_2 e_3 e_4 e_5',g=g3metric)\n",
    "\n",
    "# Give consistent names to our multivectors\n",
    "e1,e2,e3,e4,e5 = g3c.mv()\n",
    "\n",
    "# Check our metric\n",
    "print('METRIC')\n",
    "print(e1*e1)\n",
    "print(e2*e2)\n",
    "print(e3*e3)\n",
    "print(e4*e4)\n",
    "print(e5*e5)"
   ]
  },
  {
   "cell_type": "code",
   "execution_count": 3,
   "metadata": {
    "collapsed": false
   },
   "outputs": [
    {
     "name": "stdout",
     "output_type": "stream",
     "text": [
      "NULL VECTORS\n",
      "ninf  e_4 + e_5\n",
      "no  0.5*e_4 - 0.5*e_5\n",
      "ninf*ninf  0\n",
      "no*no  0\n",
      "ninf*no  1.00000000000000 - 1.0*e_4^e_5\n"
     ]
    }
   ],
   "source": [
    "# Define our null vectors\n",
    "ninf = e4 + e5\n",
    "no = 0.5*(e4 - e5)\n",
    "print('NULL VECTORS')\n",
    "print('ninf ',ninf)\n",
    "print('no ',no)\n",
    "print('ninf*ninf ',ninf*ninf)\n",
    "print('no*no ',no*no)\n",
    "print('ninf*no ',ninf*no)"
   ]
  },
  {
   "cell_type": "code",
   "execution_count": 4,
   "metadata": {
    "collapsed": false
   },
   "outputs": [
    {
     "name": "stdout",
     "output_type": "stream",
     "text": [
      "UP AND DOWN MAPPING\n",
      "up(alpha*e1 + beta*e2):  alpha*e_1 + beta*e_2 + (0.5*alpha**2 + 0.5*beta**2 - 0.5)*e_4 + (0.5*alpha**2 + 0.5*beta**2 + 0.5)*e_5\n",
      "down(up(alpha*e1 + beta*e2))  1.0*alpha*e_1 + 1.0*beta*e_2\n"
     ]
    }
   ],
   "source": [
    "# Define an up mapping\n",
    "def up(x):\n",
    "    return x + 0.5*x*x*ninf - no\n",
    "\n",
    "# Define a homo function as per clifford\n",
    "def homo(x):\n",
    "    y = (-x|ninf)\n",
    "    adj = (~y)\n",
    "    madj = adj*y\n",
    "    return x*(adj/madj)\n",
    "\n",
    "# Define a down mapping\n",
    "E0 = ninf^(-no)\n",
    "def down(x):\n",
    "    return (homo(x)^E0)*E0\n",
    "\n",
    "alpha, beta = symbols('alpha beta')\n",
    "\n",
    "print('UP AND DOWN MAPPING')\n",
    "print('up(alpha*e1 + beta*e2): ', up(alpha*e1 + beta*e2))\n",
    "print('down(up(alpha*e1 + beta*e2)) ', down(up(alpha*e1 + beta*e2)))"
   ]
  },
  {
   "cell_type": "code",
   "execution_count": null,
   "metadata": {
    "collapsed": true
   },
   "outputs": [],
   "source": []
  }
 ],
 "metadata": {
  "kernelspec": {
   "display_name": "Python 2",
   "language": "python",
   "name": "python2"
  },
  "language_info": {
   "codemirror_mode": {
    "name": "ipython",
    "version": 2
   },
   "file_extension": ".py",
   "mimetype": "text/x-python",
   "name": "python",
   "nbconvert_exporter": "python",
   "pygments_lexer": "ipython2",
   "version": "2.7.11"
  }
 },
 "nbformat": 4,
 "nbformat_minor": 0
}
